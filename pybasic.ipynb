{
  "nbformat": 4,
  "nbformat_minor": 0,
  "metadata": {
    "colab": {
      "name": "Untitled0.ipynb",
      "provenance": [],
      "collapsed_sections": [],
      "authorship_tag": "ABX9TyMAqdmuEdShNoKt8qrMjhYC",
      "include_colab_link": true
    },
    "kernelspec": {
      "name": "python3",
      "display_name": "Python 3"
    },
    "accelerator": "TPU"
  },
  "cells": [
    {
      "cell_type": "markdown",
      "metadata": {
        "id": "view-in-github",
        "colab_type": "text"
      },
      "source": [
        "<a href=\"https://colab.research.google.com/github/ChetanDarker/DEV/blob/master/pybasic.ipynb\" target=\"_parent\"><img src=\"https://colab.research.google.com/assets/colab-badge.svg\" alt=\"Open In Colab\"/></a>"
      ]
    },
    {
      "cell_type": "code",
      "metadata": {
        "id": "_5H5l9U5QLJ_",
        "colab_type": "code",
        "colab": {}
      },
      "source": [
        "##################### michine leaning#####################"
      ],
      "execution_count": 0,
      "outputs": []
    },
    {
      "cell_type": "code",
      "metadata": {
        "id": "CDGAQqX0bzAh",
        "colab_type": "code",
        "colab": {}
      },
      "source": [
        "s='anjijgkufyfyify'"
      ],
      "execution_count": 0,
      "outputs": []
    },
    {
      "cell_type": "code",
      "metadata": {
        "id": "Ls_iYo14itrn",
        "colab_type": "code",
        "outputId": "6aeb8595-5de7-4225-a0d9-31ab5fca5b4e",
        "colab": {
          "base_uri": "https://localhost:8080/",
          "height": 34
        }
      },
      "source": [
        "s.capitalize()"
      ],
      "execution_count": 0,
      "outputs": [
        {
          "output_type": "execute_result",
          "data": {
            "text/plain": [
              "'Anji'"
            ]
          },
          "metadata": {
            "tags": []
          },
          "execution_count": 4
        }
      ]
    },
    {
      "cell_type": "code",
      "metadata": {
        "id": "JlTCJ8iIi0Oa",
        "colab_type": "code",
        "outputId": "d740ffd1-c32e-4177-aba7-f866469f6842",
        "colab": {
          "base_uri": "https://localhost:8080/",
          "height": 34
        }
      },
      "source": [
        "s.upper()"
      ],
      "execution_count": 0,
      "outputs": [
        {
          "output_type": "execute_result",
          "data": {
            "text/plain": [
              "'ANJI'"
            ]
          },
          "metadata": {
            "tags": []
          },
          "execution_count": 5
        }
      ]
    },
    {
      "cell_type": "code",
      "metadata": {
        "id": "35mgijcDjnuN",
        "colab_type": "code",
        "outputId": "2ae759d5-4586-42e3-e26d-588bfe74f1c2",
        "colab": {
          "base_uri": "https://localhost:8080/",
          "height": 34
        }
      },
      "source": [
        "s.split(\"a\")"
      ],
      "execution_count": 0,
      "outputs": [
        {
          "output_type": "execute_result",
          "data": {
            "text/plain": [
              "['', 'nji']"
            ]
          },
          "metadata": {
            "tags": []
          },
          "execution_count": 20
        }
      ]
    },
    {
      "cell_type": "code",
      "metadata": {
        "id": "aCwv-eMhjqHm",
        "colab_type": "code",
        "outputId": "58789abd-9b08-447c-92e3-70262c2118e6",
        "colab": {
          "base_uri": "https://localhost:8080/",
          "height": 34
        }
      },
      "source": [
        "s[3:143546]\n",
        "\n"
      ],
      "execution_count": 0,
      "outputs": [
        {
          "output_type": "execute_result",
          "data": {
            "text/plain": [
              "'ijgkufyfyify'"
            ]
          },
          "metadata": {
            "tags": []
          },
          "execution_count": 24
        }
      ]
    },
    {
      "cell_type": "code",
      "metadata": {
        "id": "CLw-Qhv0lUxb",
        "colab_type": "code",
        "colab": {}
      },
      "source": [
        "s=[\"cock\",\"ve\",\"da\",\"nt\"]"
      ],
      "execution_count": 0,
      "outputs": []
    },
    {
      "cell_type": "code",
      "metadata": {
        "id": "IIZEJr4Pl3cZ",
        "colab_type": "code",
        "colab": {}
      },
      "source": [
        "s[3:]=[\"dev\"]"
      ],
      "execution_count": 0,
      "outputs": []
    },
    {
      "cell_type": "code",
      "metadata": {
        "id": "p9ZZ374RmD-m",
        "colab_type": "code",
        "outputId": "3ba4bc5a-ac08-4ac8-d4e4-9e788a41a2c6",
        "colab": {
          "base_uri": "https://localhost:8080/",
          "height": 34
        }
      },
      "source": [
        "s"
      ],
      "execution_count": 0,
      "outputs": [
        {
          "output_type": "execute_result",
          "data": {
            "text/plain": [
              "['cock', 've', 'da', 'dev']"
            ]
          },
          "metadata": {
            "tags": []
          },
          "execution_count": 38
        }
      ]
    },
    {
      "cell_type": "code",
      "metadata": {
        "id": "5VdxuXjfmEnf",
        "colab_type": "code",
        "colab": {}
      },
      "source": [
        "s+=[5,6]"
      ],
      "execution_count": 0,
      "outputs": []
    },
    {
      "cell_type": "code",
      "metadata": {
        "id": "CKHCN5eSm6ho",
        "colab_type": "code",
        "outputId": "eb491b0e-0907-4497-b045-a6192405ef16",
        "colab": {
          "base_uri": "https://localhost:8080/",
          "height": 34
        }
      },
      "source": [
        "s"
      ],
      "execution_count": 0,
      "outputs": [
        {
          "output_type": "execute_result",
          "data": {
            "text/plain": [
              "['cock', 've', 'da', 'dev', 5, 6, 5, 6]"
            ]
          },
          "metadata": {
            "tags": []
          },
          "execution_count": 43
        }
      ]
    },
    {
      "cell_type": "code",
      "metadata": {
        "id": "jyko-jISm7Wm",
        "colab_type": "code",
        "colab": {}
      },
      "source": [
        "dev=(\"anji\",{\"tao\":\"indra\"},[\"penji\",\"kenji\"])"
      ],
      "execution_count": 0,
      "outputs": []
    },
    {
      "cell_type": "code",
      "metadata": {
        "id": "OReYkUafnj6r",
        "colab_type": "code",
        "outputId": "ba1df99b-1f77-402a-c203-20383315c672",
        "colab": {
          "base_uri": "https://localhost:8080/",
          "height": 34
        }
      },
      "source": [
        "dev[1][\"tao\"]"
      ],
      "execution_count": 0,
      "outputs": [
        {
          "output_type": "execute_result",
          "data": {
            "text/plain": [
              "'indra'"
            ]
          },
          "metadata": {
            "tags": []
          },
          "execution_count": 57
        }
      ]
    },
    {
      "cell_type": "code",
      "metadata": {
        "id": "NZa5g9sknmxU",
        "colab_type": "code",
        "colab": {}
      },
      "source": [
        "\n",
        "dev[2][0]=12"
      ],
      "execution_count": 0,
      "outputs": []
    },
    {
      "cell_type": "code",
      "metadata": {
        "id": "GWtbgRV2nrjD",
        "colab_type": "code",
        "outputId": "9eec1269-31ce-4789-cf30-0e262a99166f",
        "colab": {
          "base_uri": "https://localhost:8080/",
          "height": 34
        }
      },
      "source": [
        "dev"
      ],
      "execution_count": 0,
      "outputs": [
        {
          "output_type": "execute_result",
          "data": {
            "text/plain": [
              "('anji', {'tao': 'indra'}, [12, 'kenji'])"
            ]
          },
          "metadata": {
            "tags": []
          },
          "execution_count": 55
        }
      ]
    },
    {
      "cell_type": "code",
      "metadata": {
        "id": "-9m6NnQrojrc",
        "colab_type": "code",
        "colab": {}
      },
      "source": [
        "d={\"key\":\"huh\"}"
      ],
      "execution_count": 0,
      "outputs": []
    },
    {
      "cell_type": "code",
      "metadata": {
        "id": "ff_d0MsupW2k",
        "colab_type": "code",
        "colab": {}
      },
      "source": [
        "d[\"key\"]=\"anji\""
      ],
      "execution_count": 0,
      "outputs": []
    },
    {
      "cell_type": "code",
      "metadata": {
        "id": "IZSv5slLpb_N",
        "colab_type": "code",
        "colab": {}
      },
      "source": [
        "s=\"anji\""
      ],
      "execution_count": 0,
      "outputs": []
    },
    {
      "cell_type": "code",
      "metadata": {
        "id": "05UHll6Kpfrk",
        "colab_type": "code",
        "outputId": "ebb8b57d-4c8f-41e5-e2b1-f8265aeb6dde",
        "colab": {
          "base_uri": "https://localhost:8080/",
          "height": 34
        }
      },
      "source": [
        "type(s)"
      ],
      "execution_count": 0,
      "outputs": [
        {
          "output_type": "execute_result",
          "data": {
            "text/plain": [
              "str"
            ]
          },
          "metadata": {
            "tags": []
          },
          "execution_count": 64
        }
      ]
    },
    {
      "cell_type": "code",
      "metadata": {
        "id": "JaWWoTeWpkH8",
        "colab_type": "code",
        "colab": {}
      },
      "source": [
        "d[(1,2)]=2"
      ],
      "execution_count": 0,
      "outputs": []
    },
    {
      "cell_type": "code",
      "metadata": {
        "id": "QvbDesn-pp9A",
        "colab_type": "code",
        "outputId": "0cc4405b-8e0a-4238-8eff-9a274bfb7c89",
        "colab": {
          "base_uri": "https://localhost:8080/",
          "height": 101
        }
      },
      "source": [
        "l=[1,5,5,6,14]\n",
        "for i,j in enumerate(l):\n",
        "  print(i,j)"
      ],
      "execution_count": 0,
      "outputs": [
        {
          "output_type": "stream",
          "text": [
            "0 1\n",
            "1 5\n",
            "2 5\n",
            "3 6\n",
            "4 14\n"
          ],
          "name": "stdout"
        }
      ]
    },
    {
      "cell_type": "code",
      "metadata": {
        "id": "DOxUq7b-pqkJ",
        "colab_type": "code",
        "outputId": "f9b97a3a-6a40-429c-d779-2a814481c698",
        "colab": {
          "base_uri": "https://localhost:8080/",
          "height": 34
        }
      },
      "source": [
        "s=\"hello\",\n",
        "type(s)"
      ],
      "execution_count": 0,
      "outputs": [
        {
          "output_type": "execute_result",
          "data": {
            "text/plain": [
              "tuple"
            ]
          },
          "metadata": {
            "tags": []
          },
          "execution_count": 67
        }
      ]
    },
    {
      "cell_type": "code",
      "metadata": {
        "id": "9BaKj6Z3qD9W",
        "colab_type": "code",
        "colab": {
          "base_uri": "https://localhost:8080/",
          "height": 128
        },
        "outputId": "d8596673-1b9e-4ad8-c125-c8f83ce433a8"
      },
      "source": [
        "for i,j in zip(l,)"
      ],
      "execution_count": 93,
      "outputs": [
        {
          "output_type": "error",
          "ename": "SyntaxError",
          "evalue": "ignored",
          "traceback": [
            "\u001b[0;36m  File \u001b[0;32m\"<ipython-input-93-f28b1b4a802c>\"\u001b[0;36m, line \u001b[0;32m1\u001b[0m\n\u001b[0;31m    for i,j in zip(l,)\u001b[0m\n\u001b[0m                      ^\u001b[0m\n\u001b[0;31mSyntaxError\u001b[0m\u001b[0;31m:\u001b[0m invalid syntax\n"
          ]
        }
      ]
    },
    {
      "cell_type": "code",
      "metadata": {
        "id": "GpIxUMB6wQI7",
        "colab_type": "code",
        "colab": {
          "base_uri": "https://localhost:8080/",
          "height": 34
        },
        "outputId": "f926979d-f572-4d5e-b0cd-d17929c7452b"
      },
      "source": [
        "prime=[x for x in range(0,23) if all(x%y!=0 for y in range(2,x))]\n",
        "prime"
      ],
      "execution_count": 110,
      "outputs": [
        {
          "output_type": "execute_result",
          "data": {
            "text/plain": [
              "[0, 1, 2, 3, 5, 7, 11, 13, 17, 19]"
            ]
          },
          "metadata": {
            "tags": []
          },
          "execution_count": 110
        }
      ]
    },
    {
      "cell_type": "code",
      "metadata": {
        "id": "UKoXMFkowiHp",
        "colab_type": "code",
        "colab": {
          "base_uri": "https://localhost:8080/",
          "height": 34
        },
        "outputId": "7c184b67-c72c-4159-c54a-42651ae927b6"
      },
      "source": [
        "prime"
      ],
      "execution_count": 111,
      "outputs": [
        {
          "output_type": "execute_result",
          "data": {
            "text/plain": [
              "[0, 1, 2, 3, 5, 7, 11, 13, 17, 19]"
            ]
          },
          "metadata": {
            "tags": []
          },
          "execution_count": 111
        }
      ]
    },
    {
      "cell_type": "code",
      "metadata": {
        "id": "NxpEcrmfwnfI",
        "colab_type": "code",
        "colab": {
          "base_uri": "https://localhost:8080/",
          "height": 84
        },
        "outputId": "6f0b61b5-f2db-4240-8abc-f90856be4afa"
      },
      "source": [
        "l=[1,5,6,14]\n",
        "for i,j in enumerate(l):\n",
        "  print(i,j)"
      ],
      "execution_count": 101,
      "outputs": [
        {
          "output_type": "stream",
          "text": [
            "0 1\n",
            "1 5\n",
            "2 6\n",
            "3 14\n"
          ],
          "name": "stdout"
        }
      ]
    },
    {
      "cell_type": "code",
      "metadata": {
        "id": "ejELsD5HxW7E",
        "colab_type": "code",
        "colab": {
          "base_uri": "https://localhost:8080/",
          "height": 34
        },
        "outputId": "5c8d4113-410f-482b-f76d-5ced324a433b"
      },
      "source": [
        "a=22\n",
        "b=6\n",
        "c=3\n",
        "d=5\n",
        "e=7\n",
        "f=8 \n",
        "if(a==1 or b==3 or d==6 or d==4 or f==2):\n",
        "  print('yes')\n",
        "else:\n",
        "  print('no')"
      ],
      "execution_count": 115,
      "outputs": [
        {
          "output_type": "stream",
          "text": [
            "no\n"
          ],
          "name": "stdout"
        }
      ]
    },
    {
      "cell_type": "code",
      "metadata": {
        "id": "P4-IRGNRzhDu",
        "colab_type": "code",
        "colab": {}
      },
      "source": [
        "def dev(a,b,c=None):\n",
        "  return a+b"
      ],
      "execution_count": 0,
      "outputs": []
    },
    {
      "cell_type": "code",
      "metadata": {
        "id": "Jyy8-7th0Zyt",
        "colab_type": "code",
        "colab": {}
      },
      "source": [
        "a=dev(5,43,c=1)\n",
        "\n"
      ],
      "execution_count": 0,
      "outputs": []
    },
    {
      "cell_type": "code",
      "metadata": {
        "id": "GWHBn9NF0dOu",
        "colab_type": "code",
        "colab": {
          "base_uri": "https://localhost:8080/",
          "height": 34
        },
        "outputId": "cb9a7c42-3533-4b7c-ccff-1aae8f174aa2"
      },
      "source": [
        "a"
      ],
      "execution_count": 123,
      "outputs": [
        {
          "output_type": "execute_result",
          "data": {
            "text/plain": [
              "48"
            ]
          },
          "metadata": {
            "tags": []
          },
          "execution_count": 123
        }
      ]
    },
    {
      "cell_type": "code",
      "metadata": {
        "id": "P94SpUXS0hJo",
        "colab_type": "code",
        "colab": {
          "base_uri": "https://localhost:8080/",
          "height": 34
        },
        "outputId": "40d87918-47fd-4dec-e660-4e5c8b5ff04f"
      },
      "source": [
        "l=[1,3,4,5,'dev','tao']\n",
        "\n",
        "def inn(l,m):\n",
        "  inn(l,m)\n",
        "    if i==m:\n",
        "      return True\n",
        "    else:\n",
        "      False\n",
        "if(inn(l,\"tao\")) == True:\n",
        "  print(\"hai bhai hai\")"
      ],
      "execution_count": 128,
      "outputs": [
        {
          "output_type": "stream",
          "text": [
            "hai bhai hai\n"
          ],
          "name": "stdout"
        }
      ]
    },
    {
      "cell_type": "code",
      "metadata": {
        "id": "1_oXAOdw1ycj",
        "colab_type": "code",
        "colab": {}
      },
      "source": [
        ""
      ],
      "execution_count": 0,
      "outputs": []
    }
  ]
}